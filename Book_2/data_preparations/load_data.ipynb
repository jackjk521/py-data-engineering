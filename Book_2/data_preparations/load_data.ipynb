{
 "cells": [
  {
   "cell_type": "markdown",
   "metadata": {},
   "source": [
    " LOADING DATA INTO BIG QUERY"
   ]
  },
  {
   "cell_type": "code",
   "execution_count": 1,
   "metadata": {},
   "outputs": [
    {
     "ename": "SyntaxError",
     "evalue": "expected ':' (3497165366.py, line 28)",
     "output_type": "error",
     "traceback": [
      "\u001b[1;36m  Cell \u001b[1;32mIn[1], line 28\u001b[1;36m\u001b[0m\n\u001b[1;33m    except Exception\u001b[0m\n\u001b[1;37m                     ^\u001b[0m\n\u001b[1;31mSyntaxError\u001b[0m\u001b[1;31m:\u001b[0m expected ':'\n"
     ]
    }
   ],
   "source": [
    "import mysql.connector as connection\n",
    "import pandas as pd\n",
    "\n",
    "def data_pipeline_mysql_to_by(**kwargs):\n",
    "    mysql_host = kwargs.get('mysql_host')\n",
    "    mysql_database = kwargs.get('mysql_database')\n",
    "    mysql_user = kwargs.get('mysql_user')\n",
    "    mysql_password = kwargs.get('mysql_password')\n",
    "    bq_project_id = kwargs.get('bq_project_id')\n",
    "    dataset = kwargs.get('database')\n",
    "\n",
    "    try: \n",
    "        mydb = connection.connect(host=mysql_host, database= mysql_database, user= mysql_user, passwd = mysql_password, use_pure= True)\n",
    "        all_tables = \"Select table_name from information_schema.tables where table_schema = '{}'\".format(mysql_database)\n",
    "        df_tables = pd.read_sql(all_tables, mydb, parse_dates = {'Date':{'format': '%Y-%m-%d'}})\n",
    "\n",
    "        for table in df_tables.TABLE_NAME:\n",
    "            table_name = table\n",
    "            # Extract  table data from MYSQL\n",
    "            df_table_data = extract_table_from_mysql(table_name, mydb)\n",
    "            # Transform table data from MYSQL\n",
    "            df_table_data = transform_data_from_table(df_table_data)\n",
    "            # Load Data to Big Query\n",
    "            load_data_into_bigquery(bq_project_id, dataset, table_name, df_table_data)\n",
    "            # Confirmation message if this is successful\n",
    "            print(\"Ingested table{}\".format(table_name))\n",
    "            mydb.close()\n",
    "    except Exception as e:\n",
    "            mydb.close()\n",
    "            print(str(e))\n",
    "\n",
    "\n",
    "# ETL Proccesses\n",
    "            \n",
    "def extract_table_from_mysql(table_name, my_sql_connection):\n",
    "     # Extract data from table\n",
    "     extract_query = 'select * from' + table_name\n",
    "     df_table_data = pd.read_sql(extract_query, my_sql_connection)\n",
    "     return df_table_data\n",
    "\n",
    "def transform_data_from_table(df_table_data):\n",
    "     # Clean dates - convert to string\n",
    "     object_cols = df_table_data.select.dtypes(include=['object']).columns\n",
    "\n",
    "     for column in object_cols:\n",
    "          dtype= str(type(df_table_data[column.valuers[0]]))\n",
    "          if dtype == \"<class 'datetime.date'>\":\n",
    "               df_table_data[column] = df_table_data[column].map(lambda x: str(x)) \n",
    "               return df_table_data\n",
    "          \n",
    "def load_data_into_bigquery(bq_project_id, dataset, table_name, df_table_data):\n",
    "     import pandas_gbq as pdbq\n",
    "     full_table_name_bg = \"{}.{}\".format(dataset, table_name)\n",
    "     pdbq.to_gbq(df_table_data, full_table_name_bg, project_id = bq_project_id, if_exists='replace')"
   ]
  },
  {
   "cell_type": "markdown",
   "metadata": {},
   "source": [
    "CALL MAIN FUNCTION"
   ]
  },
  {
   "cell_type": "code",
   "execution_count": 3,
   "metadata": {},
   "outputs": [],
   "source": [
    "kwargs = {\n",
    "    #BigQuery Connection Details\n",
    "    'bq_project_id': 'bq_project_id', #CHANGE TO YOUR CREDS\n",
    "    'dataset': 'dataset_name', #CHANGE TO NAME OF THE DATASET\n",
    "\n",
    "    #MYSQL Connection details\n",
    "    'mysql_host': 'mysql_host', #CHANGE TO YOUR CREDS\n",
    "    'mysql_user': 'mysql_user', #CHANGE TO YOUR CREDS\n",
    "    'mysql_password': 'mysql_password', #CHANGE TO YOUR CREDS\n",
    "    'mysql_database': 'mysql_database', #CHANGE TO YOUR CREDS\n",
    "}\n",
    "\n",
    "data_pipeline_mysql_to_by(kwargs)"
   ]
  }
 ],
 "metadata": {
  "kernelspec": {
   "display_name": "base",
   "language": "python",
   "name": "python3"
  },
  "language_info": {
   "codemirror_mode": {
    "name": "ipython",
    "version": 3
   },
   "file_extension": ".py",
   "mimetype": "text/x-python",
   "name": "python",
   "nbconvert_exporter": "python",
   "pygments_lexer": "ipython3",
   "version": "3.11.5"
  }
 },
 "nbformat": 4,
 "nbformat_minor": 2
}
