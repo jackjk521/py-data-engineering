{
 "cells": [
  {
   "cell_type": "markdown",
   "metadata": {},
   "source": [
    "Data Creation to DuckDB"
   ]
  },
  {
   "cell_type": "code",
   "execution_count": 20,
   "metadata": {},
   "outputs": [
    {
     "data": {
      "text/plain": [
       "<duckdb.duckdb.DuckDBPyConnection at 0x24d342f68b0>"
      ]
     },
     "execution_count": 20,
     "metadata": {},
     "output_type": "execute_result"
    }
   ],
   "source": [
    "import duckdb\n",
    "import pandas as pd\n",
    "\n",
    "con = duckdb.connect()\n",
    "\n",
    "data = [ \n",
    "{\n",
    "    'Title' : 'Python for Data Analytics 1',\n",
    "    'Author' : \"James Corson\",\n",
    "    'Publisher' : \"PublishingTops\",\n",
    "    'Price' : 1000.00,\n",
    "    'UnitsSold': 1000\n",
    "}, \n",
    "{\n",
    "    'Title' : 'Python for Data Analytics 2',\n",
    "    'Author' : \"James Corson\",\n",
    "    'Publisher' : \"PublishingToppy\",\n",
    "    'Price' : 1000.00,\n",
    "    'UnitSold': 1000\n",
    "},\n",
    "{\n",
    "    'Title' : 'Python for Data Analytics 3',\n",
    "    'Author' : \"James Corson\",\n",
    "    'Publisher' : \"PublishingTops\",\n",
    "    'Price' : 1000.00,\n",
    "    'UnitsSold': 1000\n",
    "},\n",
    "{\n",
    "    'Title' : 'Python for Data Analytics 4',\n",
    "    'Author' : \"James Corson\",\n",
    "    'Publisher' : \"PublishingToppy\",\n",
    "    'Price' : 1000.00,\n",
    "    'UnitsSold': 1000\n",
    "},\n",
    "{\n",
    "    'Title' : 'Python for Data Analytics 5',\n",
    "    'Author' : \"James Corson\",\n",
    "    'Publisher' : \"PublishingTops\",\n",
    "    'Price' : 1000.00,\n",
    "    'UnitsSold': 1000\n",
    "},\n",
    "]\n",
    "\n",
    "df = pd.DataFrame(data)\n",
    "con.register('sales', df)\n",
    "# df"
   ]
  },
  {
   "cell_type": "markdown",
   "metadata": {},
   "source": [
    "Basic FastAPI Example with duckdb"
   ]
  },
  {
   "cell_type": "code",
   "execution_count": 21,
   "metadata": {},
   "outputs": [
    {
     "data": {
      "text/plain": [
       "{'top_books': [{'title': 'Python for Data Analytics 1', 'unit_sold': 1000.0},\n",
       "  {'title': 'Python for Data Analytics 3', 'unit_sold': 1000.0},\n",
       "  {'title': 'Python for Data Analytics 5', 'unit_sold': 1000.0}]}"
      ]
     },
     "execution_count": 21,
     "metadata": {},
     "output_type": "execute_result"
    }
   ],
   "source": [
    "from fastapi import FastAPI\n",
    "\n",
    "app = FastAPI()\n",
    "\n",
    "@app.get(\"/top_books\")\n",
    "\n",
    "def get_top_books():\n",
    "    query = '''\n",
    "        SELECT Title, UnitsSold\n",
    "        FROM sales\n",
    "        WHERE Publisher = 'PublishingTops'\n",
    "        ORDER BY UnitsSold DESC\n",
    "        LIMIT 5\n",
    "        '''\n",
    "    result = con.execute(query).fetchall()\n",
    "\n",
    "    books = []\n",
    "    for row in result:\n",
    "        book = {\n",
    "            \"title\" : row[0],\n",
    "            \"unit_sold\" : row[1]\n",
    "        }\n",
    "        books.append(book)\n",
    "\n",
    "    return {\"top_books\": books}\n",
    "\n",
    "get_top_books()\n"
   ]
  },
  {
   "cell_type": "markdown",
   "metadata": {},
   "source": [
    "Using Pandas and DuckDB"
   ]
  },
  {
   "cell_type": "code",
   "execution_count": 4,
   "metadata": {},
   "outputs": [
    {
     "data": {
      "text/html": [
       "<div>\n",
       "<style scoped>\n",
       "    .dataframe tbody tr th:only-of-type {\n",
       "        vertical-align: middle;\n",
       "    }\n",
       "\n",
       "    .dataframe tbody tr th {\n",
       "        vertical-align: top;\n",
       "    }\n",
       "\n",
       "    .dataframe thead th {\n",
       "        text-align: right;\n",
       "    }\n",
       "</style>\n",
       "<table border=\"1\" class=\"dataframe\">\n",
       "  <thead>\n",
       "    <tr style=\"text-align: right;\">\n",
       "      <th></th>\n",
       "      <th>sum(a)</th>\n",
       "    </tr>\n",
       "  </thead>\n",
       "  <tbody>\n",
       "    <tr>\n",
       "      <th>0</th>\n",
       "      <td>6.0</td>\n",
       "    </tr>\n",
       "  </tbody>\n",
       "</table>\n",
       "</div>"
      ],
      "text/plain": [
       "   sum(a)\n",
       "0     6.0"
      ]
     },
     "execution_count": 4,
     "metadata": {},
     "output_type": "execute_result"
    }
   ],
   "source": [
    "import pandas as pd\n",
    "import duckdb\n",
    "\n",
    "mydf = pd.DataFrame({'a': [1, 2, 3]})\n",
    "\n",
    "result = duckdb.query(\"SELECT SUM(a) FROM mydf\").to_df()\n",
    "\n",
    "result"
   ]
  },
  {
   "cell_type": "markdown",
   "metadata": {},
   "source": [
    "Fetch Data and save directly to a dataframe"
   ]
  },
  {
   "cell_type": "code",
   "execution_count": 24,
   "metadata": {},
   "outputs": [
    {
     "data": {
      "text/html": [
       "<div>\n",
       "<style scoped>\n",
       "    .dataframe tbody tr th:only-of-type {\n",
       "        vertical-align: middle;\n",
       "    }\n",
       "\n",
       "    .dataframe tbody tr th {\n",
       "        vertical-align: top;\n",
       "    }\n",
       "\n",
       "    .dataframe thead th {\n",
       "        text-align: right;\n",
       "    }\n",
       "</style>\n",
       "<table border=\"1\" class=\"dataframe\">\n",
       "  <thead>\n",
       "    <tr style=\"text-align: right;\">\n",
       "      <th></th>\n",
       "      <th>total_revenue</th>\n",
       "    </tr>\n",
       "  </thead>\n",
       "  <tbody>\n",
       "    <tr>\n",
       "      <th>0</th>\n",
       "      <td>3000000.0</td>\n",
       "    </tr>\n",
       "  </tbody>\n",
       "</table>\n",
       "</div>"
      ],
      "text/plain": [
       "   total_revenue\n",
       "0      3000000.0"
      ]
     },
     "execution_count": 24,
     "metadata": {},
     "output_type": "execute_result"
    }
   ],
   "source": [
    "query_total_revenue = \"\"\"\n",
    "    SELECT SUM (price *unitsSold) as total_revenue\n",
    "    FROM sales\n",
    "    WHERE Publisher = 'PublishingTops'\n",
    "    \"\"\"\n",
    "df_total_revenue = con.execute(query_total_revenue).df()\n",
    "\n",
    "df_total_revenue"
   ]
  },
  {
   "cell_type": "markdown",
   "metadata": {},
   "source": [
    "Data Visualization"
   ]
  },
  {
   "cell_type": "code",
   "execution_count": 30,
   "metadata": {},
   "outputs": [
    {
     "data": {
      "text/plain": [
       "Text(0, 0.5, 'Total Revenue')"
      ]
     },
     "execution_count": 30,
     "metadata": {},
     "output_type": "execute_result"
    },
    {
     "data": {
      "image/png": "[encoded data removed]",
      "text/plain": [
       "<Figure size 640x480 with 1 Axes>"
      ]
     },
     "metadata": {},
     "output_type": "display_data"
    }
   ],
   "source": [
    "import matplotlib.pyplot as plt \n",
    "\n",
    "total_revenue = con.execute(query_total_revenue).fetchall()[0][0]\n",
    "# Data initialization\n",
    "plt.bar('PublishingTops', total_revenue)\n",
    "# Set plot title and axis labels\n",
    "plt.title(\"Total Revenue of PublishingTops\")\n",
    "plt.xlabel(\"Publisher\")\n",
    "plt.ylabel(\"Total Revenue\")"
   ]
  },
  {
   "cell_type": "markdown",
   "metadata": {},
   "source": []
  }
 ],
 "metadata": {
  "kernelspec": {
   "display_name": "base",
   "language": "python",
   "name": "python3"
  },
  "language_info": {
   "codemirror_mode": {
    "name": "ipython",
    "version": 3
   },
   "file_extension": ".py",
   "mimetype": "text/x-python",
   "name": "python",
   "nbconvert_exporter": "python",
   "pygments_lexer": "ipython3",
   "version": "3.11.5"
  }
 },
 "nbformat": 4,
 "nbformat_minor": 2
}
