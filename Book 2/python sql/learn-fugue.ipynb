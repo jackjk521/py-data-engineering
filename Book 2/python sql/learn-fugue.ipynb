{
 "cells": [
  {
   "cell_type": "markdown",
   "metadata": {},
   "source": [
    "Init setup for fugue and Jupyter (command: fugue-jupyter install startup)\n",
    "Enable notebook etensions"
   ]
  },
  {
   "cell_type": "code",
   "execution_count": 2,
   "metadata": {},
   "outputs": [],
   "source": [
    "from fugue_notebook import setup\n",
    "setup(is_lab=True)"
   ]
  },
  {
   "cell_type": "markdown",
   "metadata": {},
   "source": [
    "Fugue SQL "
   ]
  },
  {
   "cell_type": "code",
   "execution_count": 23,
   "metadata": {},
   "outputs": [],
   "source": [
    "import pandas as pd\n",
    "from pyspark.sql import SparkSession\n",
    "from fugue.api import fugue_sql_flow\n",
    "import fugue.api as fa\n",
    "import duckdb\n",
    "\n",
    "data = [ \n",
    "{\n",
    "    'Title' : 'Python for Data Analytics 1',\n",
    "    'Author' : \"James Colon\",\n",
    "    'Publisher' : \"PublishingTops\",\n",
    "    'Price' : 1000.00,\n",
    "    'UnitsSold': 1000\n",
    "}, \n",
    "{\n",
    "    'Title' : 'Python for Data Analytics 2',\n",
    "    'Author' : \"James Corson\",\n",
    "    'Publisher' : \"PublishingToppy\",\n",
    "    'Price' : 1000.00,\n",
    "    'UnitSold': 1000\n",
    "},\n",
    "{\n",
    "    'Title' : 'Python for Data Analytics 3',\n",
    "    'Author' : \"James Corson\",\n",
    "    'Publisher' : \"PublishingTops\",\n",
    "    'Price' : 1000.00,\n",
    "    'UnitsSold': 1000\n",
    "},\n",
    "{\n",
    "    'Title' : 'Python for Data Analytics 4',\n",
    "    'Author' : \"James Con\",\n",
    "    'Publisher' : \"PublishingToppy\",\n",
    "    'Price' : 1000.00,\n",
    "    'UnitsSold': 1000\n",
    "},\n",
    "{\n",
    "    'Title' : 'Python for Data Analytics 5',\n",
    "    'Author' : \"James Corson\",\n",
    "    'Publisher' : \"PublishingTops\",\n",
    "    'Price' : 1000.00,\n",
    "    'UnitsSold': 1000\n",
    "},\n",
    "]\n",
    "\n",
    "# Save data to the file type of choice\n",
    "df = pd.DataFrame(data)\n",
    "df.to_parquet(\"./tmp/df.parquet\")\\\n",
    "# C:\\Projects\\py-data-engineering\\Book 2\\python sql\\tmp"
   ]
  },
  {
   "cell_type": "code",
   "execution_count": 19,
   "metadata": {},
   "outputs": [
    {
     "data": {
      "text/html": [
       "<div>\n",
       "<style scoped>\n",
       "    .dataframe tbody tr th:only-of-type {\n",
       "        vertical-align: middle;\n",
       "    }\n",
       "\n",
       "    .dataframe tbody tr th {\n",
       "        vertical-align: top;\n",
       "    }\n",
       "\n",
       "    .dataframe thead th {\n",
       "        text-align: right;\n",
       "    }\n",
       "</style>\n",
       "<table border=\"1\" class=\"dataframe\">\n",
       "  <thead>\n",
       "    <tr style=\"text-align: right;\">\n",
       "      <th></th>\n",
       "      <th>Author:str</th>\n",
       "      <th>NbBooks:long</th>\n",
       "    </tr>\n",
       "  </thead>\n",
       "  <tbody>\n",
       "    <tr>\n",
       "      <th>0</th>\n",
       "      <td>James Colon</td>\n",
       "      <td>1</td>\n",
       "    </tr>\n",
       "    <tr>\n",
       "      <th>1</th>\n",
       "      <td>James Con</td>\n",
       "      <td>1</td>\n",
       "    </tr>\n",
       "    <tr>\n",
       "      <th>2</th>\n",
       "      <td>James Corson</td>\n",
       "      <td>3</td>\n",
       "    </tr>\n",
       "  </tbody>\n",
       "</table>\n",
       "</div>\n",
       "<font size=\"-1\">PandasDataFrame: Author:str,NbBooks:long</font>"
      ],
      "text/plain": [
       "<IPython.core.display.HTML object>"
      ]
     },
     "metadata": {},
     "output_type": "display_data"
    }
   ],
   "source": [
    "# Queries using pandas engine\n",
    "\n",
    "query = \"\"\"\n",
    "    LOAD './tmp/df.parquet'\n",
    "    SELECT Author, COUNT(Title) AS NbBooks\n",
    "    GROUP BY Author\n",
    "    PRINT\n",
    "\"\"\"\n",
    "\n",
    "pandas_df = fa.fugue_sql(query, engine=\"pandas\")"
   ]
  },
  {
   "cell_type": "code",
   "execution_count": 20,
   "metadata": {},
   "outputs": [
    {
     "data": {
      "text/html": [
       "<div>\n",
       "<style scoped>\n",
       "    .dataframe tbody tr th:only-of-type {\n",
       "        vertical-align: middle;\n",
       "    }\n",
       "\n",
       "    .dataframe tbody tr th {\n",
       "        vertical-align: top;\n",
       "    }\n",
       "\n",
       "    .dataframe thead th {\n",
       "        text-align: right;\n",
       "    }\n",
       "</style>\n",
       "<table border=\"1\" class=\"dataframe\">\n",
       "  <thead>\n",
       "    <tr style=\"text-align: right;\">\n",
       "      <th></th>\n",
       "      <th>Author:str</th>\n",
       "      <th>NbBooks:long</th>\n",
       "    </tr>\n",
       "  </thead>\n",
       "  <tbody>\n",
       "    <tr>\n",
       "      <th>0</th>\n",
       "      <td>James Con</td>\n",
       "      <td>1</td>\n",
       "    </tr>\n",
       "    <tr>\n",
       "      <th>1</th>\n",
       "      <td>James Corson</td>\n",
       "      <td>3</td>\n",
       "    </tr>\n",
       "    <tr>\n",
       "      <th>2</th>\n",
       "      <td>James Colon</td>\n",
       "      <td>1</td>\n",
       "    </tr>\n",
       "  </tbody>\n",
       "</table>\n",
       "</div>\n",
       "<font size=\"-1\">SparkDataFrame: Author:str,NbBooks:long</font>"
      ],
      "text/plain": [
       "<IPython.core.display.HTML object>"
      ]
     },
     "metadata": {},
     "output_type": "display_data"
    }
   ],
   "source": [
    "# Queries using pyspark engine\n",
    "\n",
    "query = \"\"\"\n",
    "    LOAD './tmp/df.parquet'\n",
    "    SELECT Author, COUNT(Title) AS NbBooks\n",
    "    GROUP BY Author\n",
    "    PRINT\n",
    "\"\"\"\n",
    "\n",
    "spark_df = fa.fugue_sql(query, engine=\"spark\")"
   ]
  },
  {
   "cell_type": "code",
   "execution_count": 25,
   "metadata": {},
   "outputs": [
    {
     "name": "stdout",
     "output_type": "stream",
     "text": [
      "                         Title        Author        Publisher   Price  \\\n",
      "0  Python for Data Analytics 2  James Corson  PublishingToppy  1000.0   \n",
      "1  Python for Data Analytics 3  James Corson   PublishingTops  1000.0   \n",
      "2  Python for Data Analytics 5  James Corson   PublishingTops  1000.0   \n",
      "\n",
      "   UnitsSold  UnitSold  \n",
      "0        NaN    1000.0  \n",
      "1     1000.0       NaN  \n",
      "2     1000.0       NaN  \n"
     ]
    }
   ],
   "source": [
    "# Queries using duckdb engine\n",
    "\n",
    "query = \"\"\"\n",
    "    df= LOAD './tmp/df.parquet'\n",
    "    res =  SELECT * \n",
    "    FROM df\n",
    "    WHERE Author = 'James Corson'\n",
    "    SAVE res OVERWRITE './tmp/df2.parquet'\n",
    "\"\"\"\n",
    "\n",
    "fa.fugue_sql(query, engine=\"duckdb\")\n",
    "\n",
    "with duckdb.connect() as conn:\n",
    "    df2 = conn.execute(\"SELECT * FROM './tmp/df2.parquet'\").fetchdf()\n",
    "\n",
    "print(df2.head())\n"
   ]
  }
 ],
 "metadata": {
  "kernelspec": {
   "display_name": "base",
   "language": "python",
   "name": "python3"
  },
  "language_info": {
   "codemirror_mode": {
    "name": "ipython",
    "version": 3
   },
   "file_extension": ".py",
   "mimetype": "text/x-python",
   "name": "python",
   "nbconvert_exporter": "python",
   "pygments_lexer": "ipython3",
   "version": "3.11.5"
  }
 },
 "nbformat": 4,
 "nbformat_minor": 2
}
