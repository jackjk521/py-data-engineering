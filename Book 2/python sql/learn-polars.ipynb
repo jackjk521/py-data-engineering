{
 "cells": [
  {
   "cell_type": "markdown",
   "metadata": {},
   "source": [
    "Polars Dataframes Init"
   ]
  },
  {
   "cell_type": "code",
   "execution_count": 2,
   "metadata": {},
   "outputs": [
    {
     "data": {
      "text/html": [
       "<div><style>\n",
       ".dataframe > thead > tr,\n",
       ".dataframe > tbody > tr {\n",
       "  text-align: right;\n",
       "  white-space: pre-wrap;\n",
       "}\n",
       "</style>\n",
       "<small>shape: (6, 3)</small><table border=\"1\" class=\"dataframe\"><thead><tr><th>Title</th><th>UnitsSold</th><th>Publisher</th></tr><tr><td>str</td><td>i64</td><td>str</td></tr></thead><tbody><tr><td>&quot;Python Crash C…</td><td>250</td><td>&quot;O&#x27;Reilly&quot;</td></tr><tr><td>&quot;Hands-On Machi…</td><td>180</td><td>&quot;O&#x27;Reilly&quot;</td></tr><tr><td>&quot;Data Science f…</td><td>320</td><td>&quot;O&#x27;Reilly&quot;</td></tr><tr><td>&quot;Learning SQL&quot;</td><td>150</td><td>&quot;O&#x27;Reilly&quot;</td></tr><tr><td>&quot;JavaScript: Th…</td><td>200</td><td>&quot;O&#x27;Reilly&quot;</td></tr><tr><td>&quot;Clean Code&quot;</td><td>280</td><td>&quot;O&#x27;Reilly&quot;</td></tr></tbody></table></div>"
      ],
      "text/plain": [
       "shape: (6, 3)\n",
       "┌────────────────────────────┬───────────┬───────────┐\n",
       "│ Title                      ┆ UnitsSold ┆ Publisher │\n",
       "│ ---                        ┆ ---       ┆ ---       │\n",
       "│ str                        ┆ i64       ┆ str       │\n",
       "╞════════════════════════════╪═══════════╪═══════════╡\n",
       "│ Python Crash Course        ┆ 250       ┆ O'Reilly  │\n",
       "│ Hands-On Machine Learning  ┆ 180       ┆ O'Reilly  │\n",
       "│ Data Science for Business  ┆ 320       ┆ O'Reilly  │\n",
       "│ Learning SQL               ┆ 150       ┆ O'Reilly  │\n",
       "│ JavaScript: The Good Parts ┆ 200       ┆ O'Reilly  │\n",
       "│ Clean Code                 ┆ 280       ┆ O'Reilly  │\n",
       "└────────────────────────────┴───────────┴───────────┘"
      ]
     },
     "execution_count": 2,
     "metadata": {},
     "output_type": "execute_result"
    }
   ],
   "source": [
    "import polars as pl\n",
    "\n",
    "df = pl.DataFrame(\n",
    "    {\n",
    "    'Title': ['Python Crash Course', 'Hands-On Machine Learning',\n",
    "    'Data Science for Business', 'Learning SQL',\n",
    "    'JavaScript: The Good Parts', 'Clean Code'],\n",
    "    'UnitsSold': [250, 180, 320, 150, 200, 280],\n",
    "    'Publisher': [\"OReilly\", \"OReilly\", \"OReilly\", \"OReilly\",\n",
    "    \"OReilly\", \"OReilly\"],\n",
    "    }\n",
    ")\n",
    "\n",
    "df"
   ]
  },
  {
   "cell_type": "markdown",
   "metadata": {},
   "source": [
    "Queries using built in functions in Polars"
   ]
  },
  {
   "cell_type": "code",
   "execution_count": 5,
   "metadata": {},
   "outputs": [
    {
     "name": "stdout",
     "output_type": "stream",
     "text": [
      "Top Selling O'Reilly Books\n",
      "                        Title  UnitsSold\n",
      "0   Data Science for Business        320\n",
      "1                  Clean Code        280\n",
      "2         Python Crash Course        250\n",
      "3  JavaScript: The Good Parts        200\n",
      "4   Hands-On Machine Learning        180\n"
     ]
    }
   ],
   "source": [
    "# Sort\n",
    "top_selling_books = df.sort(by=\"UnitsSold\", descending=True)\n",
    "\n",
    "top_books_data = top_selling_books.select([\"Title\", \"UnitsSold\"]).limit(5).to_pandas()\n",
    "print(\"Top Selling OReilly Books\")\n",
    "print(top_books_data)\n"
   ]
  },
  {
   "cell_type": "markdown",
   "metadata": {},
   "source": [
    "Connect with duckdb with polars"
   ]
  },
  {
   "cell_type": "code",
   "execution_count": 15,
   "metadata": {},
   "outputs": [
    {
     "ename": "TypeError",
     "evalue": "DataFrame constructor called with unsupported type 'DuckDBPyConnection' for the `data` parameter",
     "output_type": "error",
     "traceback": [
      "\u001b[1;31m---------------------------------------------------------------------------\u001b[0m",
      "\u001b[1;31mTypeError\u001b[0m                                 Traceback (most recent call last)",
      "\u001b[1;32m~\\AppData\\Local\\Temp\\ipykernel_22500\\928278723.py\u001b[0m in \u001b[0;36m?\u001b[1;34m()\u001b[0m\n\u001b[0;32m      7\u001b[0m \u001b[1;33m\u001b[0m\u001b[0m\n\u001b[0;32m      8\u001b[0m \u001b[0mresult\u001b[0m \u001b[1;33m=\u001b[0m \u001b[0mcon\u001b[0m\u001b[1;33m.\u001b[0m\u001b[0mexecute\u001b[0m\u001b[1;33m(\u001b[0m\u001b[1;34m\"SELECT Title, UnitsSold FROM books WHERE Publisher = 'OReilly'\"\u001b[0m\u001b[1;33m)\u001b[0m\u001b[1;33m\u001b[0m\u001b[1;33m\u001b[0m\u001b[0m\n\u001b[0;32m      9\u001b[0m \u001b[1;33m\u001b[0m\u001b[0m\n\u001b[0;32m     10\u001b[0m \u001b[1;31m# Convert the result to Polars DF\u001b[0m\u001b[1;33m\u001b[0m\u001b[1;33m\u001b[0m\u001b[0m\n\u001b[1;32m---> 11\u001b[1;33m \u001b[0mresult_df\u001b[0m \u001b[1;33m=\u001b[0m \u001b[0mpl\u001b[0m\u001b[1;33m.\u001b[0m\u001b[0mDataFrame\u001b[0m\u001b[1;33m(\u001b[0m\u001b[0mresult\u001b[0m\u001b[1;33m)\u001b[0m\u001b[1;33m\u001b[0m\u001b[1;33m\u001b[0m\u001b[0m\n\u001b[0m\u001b[0;32m     12\u001b[0m \u001b[0mresult_df\u001b[0m\u001b[1;33m.\u001b[0m\u001b[0mselect\u001b[0m\u001b[1;33m(\u001b[0m\u001b[1;33m[\u001b[0m\u001b[1;34m\"Title\"\u001b[0m\u001b[1;33m,\u001b[0m \u001b[1;34m\"UnitsSold\"\u001b[0m\u001b[1;33m]\u001b[0m\u001b[1;33m)\u001b[0m\u001b[1;33m\u001b[0m\u001b[1;33m\u001b[0m\u001b[0m\n\u001b[0;32m     13\u001b[0m \u001b[0mprint\u001b[0m\u001b[1;33m(\u001b[0m\u001b[0mresult_df\u001b[0m\u001b[1;33m)\u001b[0m\u001b[1;33m\u001b[0m\u001b[1;33m\u001b[0m\u001b[0m\n",
      "\u001b[1;32mc:\\Users\\Jack\\anaconda3\\Lib\\site-packages\\polars\\dataframe\\frame.py\u001b[0m in \u001b[0;36m?\u001b[1;34m(self, data, schema, schema_overrides, orient, infer_schema_length, nan_to_null)\u001b[0m\n\u001b[0;32m    423\u001b[0m             msg = (\n\u001b[0;32m    424\u001b[0m                 \u001b[1;34mf\"DataFrame constructor called with unsupported type {type(data).__name__!r}\"\u001b[0m\u001b[1;33m\u001b[0m\u001b[1;33m\u001b[0m\u001b[0m\n\u001b[0;32m    425\u001b[0m                 \u001b[1;34m\" for the `data` parameter\"\u001b[0m\u001b[1;33m\u001b[0m\u001b[1;33m\u001b[0m\u001b[0m\n\u001b[0;32m    426\u001b[0m             )\n\u001b[1;32m--> 427\u001b[1;33m             \u001b[1;32mraise\u001b[0m \u001b[0mTypeError\u001b[0m\u001b[1;33m(\u001b[0m\u001b[0mmsg\u001b[0m\u001b[1;33m)\u001b[0m\u001b[1;33m\u001b[0m\u001b[1;33m\u001b[0m\u001b[0m\n\u001b[0m",
      "\u001b[1;31mTypeError\u001b[0m: DataFrame constructor called with unsupported type 'DuckDBPyConnection' for the `data` parameter"
     ]
    }
   ],
   "source": [
    "import duckdb\n",
    "\n",
    "con = duckdb.connect()\n",
    "\n",
    "# Register to duckdb the polars db\n",
    "con.register('books', df)\n",
    "\n",
    "result = con.execute(\"SELECT Title, UnitsSold FROM books WHERE Publisher = 'OReilly'\")\n",
    "\n",
    "# Convert the result to Polars DF\n",
    "result_df = pl.DataFrame(result)\n",
    "result_df.select([\"Title\", \"UnitsSold\"])      \n",
    "print(result_df)              "
   ]
  },
  {
   "cell_type": "markdown",
   "metadata": {},
   "source": [
    "Creating SQL Context for data type checking"
   ]
  },
  {
   "cell_type": "code",
   "execution_count": 17,
   "metadata": {},
   "outputs": [
    {
     "data": {
      "text/html": [
       "<div><style>\n",
       ".dataframe > thead > tr,\n",
       ".dataframe > tbody > tr {\n",
       "  text-align: right;\n",
       "  white-space: pre-wrap;\n",
       "}\n",
       "</style>\n",
       "<small>shape: (0, 3)</small><table border=\"1\" class=\"dataframe\"><thead><tr><th>Title</th><th>UnitsSold</th><th>Publisher</th></tr><tr><td>str</td><td>i64</td><td>str</td></tr></thead><tbody></tbody></table></div>"
      ],
      "text/plain": [
       "shape: (0, 3)\n",
       "┌───────┬───────────┬───────────┐\n",
       "│ Title ┆ UnitsSold ┆ Publisher │\n",
       "│ ---   ┆ ---       ┆ ---       │\n",
       "│ str   ┆ i64       ┆ str       │\n",
       "╞═══════╪═══════════╪═══════════╡\n",
       "└───────┴───────────┴───────────┘"
      ]
     },
     "execution_count": 17,
     "metadata": {},
     "output_type": "execute_result"
    }
   ],
   "source": [
    "sql = pl.SQLContext()\n",
    "sql.register('df', df)\n",
    "\n",
    "result_df = sql.execute(\n",
    "    \"\"\"\n",
    "        select * \n",
    "        from df\n",
    "        where Title = 'Python for Data Analysis'\n",
    "    \"\"\"\n",
    ").collect()\n",
    "\n",
    "result_df"
   ]
  }
 ],
 "metadata": {
  "kernelspec": {
   "display_name": "base",
   "language": "python",
   "name": "python3"
  },
  "language_info": {
   "codemirror_mode": {
    "name": "ipython",
    "version": 3
   },
   "file_extension": ".py",
   "mimetype": "text/x-python",
   "name": "python",
   "nbconvert_exporter": "python",
   "pygments_lexer": "ipython3",
   "version": "3.11.5"
  }
 },
 "nbformat": 4,
 "nbformat_minor": 2
}
